{
  "nbformat": 4,
  "nbformat_minor": 0,
  "metadata": {
    "colab": {
      "name": "Project 10. Credit Card Fraud Detection.ipynb",
      "provenance": [],
      "collapsed_sections": []
    },
    "kernelspec": {
      "name": "python3",
      "display_name": "Python 3"
    },
    "language_info": {
      "name": "python"
    }
  },
  "cells": [
    {
      "cell_type": "markdown",
      "metadata": {
        "id": "HaDiZLbb3iHL"
      },
      "source": [
        "Importing all the dependencies"
      ]
    },
    {
      "cell_type": "code",
      "metadata": {
        "id": "U2it116mzqob"
      },
      "source": [
        "import numpy as np\n",
        "import pandas as pd \n",
        "from sklearn.model_selection import train_test_split \n",
        "from sklearn.metrics import accuracy_score\n",
        "from sklearn.linear_model import LogisticRegression"
      ],
      "execution_count": 3,
      "outputs": []
    },
    {
      "cell_type": "code",
      "metadata": {
        "id": "MJzMzMmi4QZp"
      },
      "source": [
        "# Load the dataset\n",
        "credit_card_data = pd.read_csv('/content/creditcard.csv')"
      ],
      "execution_count": 4,
      "outputs": []
    },
    {
      "cell_type": "code",
      "metadata": {
        "colab": {
          "base_uri": "https://localhost:8080/"
        },
        "id": "v5EGi1xJ7jNM",
        "outputId": "075667fb-ec25-4430-9f92-728c47110a57"
      },
      "source": [
        "# check the number of rows and columns\n",
        "credit_card_data.shape"
      ],
      "execution_count": 5,
      "outputs": [
        {
          "output_type": "execute_result",
          "data": {
            "text/plain": [
              "(35742, 31)"
            ]
          },
          "metadata": {
            "tags": []
          },
          "execution_count": 5
        }
      ]
    },
    {
      "cell_type": "code",
      "metadata": {
        "colab": {
          "base_uri": "https://localhost:8080/",
          "height": 225
        },
        "id": "cvi7F6Ce8N2e",
        "outputId": "8c47b71b-1619-488f-bb3f-83e3d23da1dc"
      },
      "source": [
        "# first 5 rows of dataset\n",
        "credit_card_data.head()"
      ],
      "execution_count": 6,
      "outputs": [
        {
          "output_type": "execute_result",
          "data": {
            "text/html": [
              "<div>\n",
              "<style scoped>\n",
              "    .dataframe tbody tr th:only-of-type {\n",
              "        vertical-align: middle;\n",
              "    }\n",
              "\n",
              "    .dataframe tbody tr th {\n",
              "        vertical-align: top;\n",
              "    }\n",
              "\n",
              "    .dataframe thead th {\n",
              "        text-align: right;\n",
              "    }\n",
              "</style>\n",
              "<table border=\"1\" class=\"dataframe\">\n",
              "  <thead>\n",
              "    <tr style=\"text-align: right;\">\n",
              "      <th></th>\n",
              "      <th>Time</th>\n",
              "      <th>V1</th>\n",
              "      <th>V2</th>\n",
              "      <th>V3</th>\n",
              "      <th>V4</th>\n",
              "      <th>V5</th>\n",
              "      <th>V6</th>\n",
              "      <th>V7</th>\n",
              "      <th>V8</th>\n",
              "      <th>V9</th>\n",
              "      <th>V10</th>\n",
              "      <th>V11</th>\n",
              "      <th>V12</th>\n",
              "      <th>V13</th>\n",
              "      <th>V14</th>\n",
              "      <th>V15</th>\n",
              "      <th>V16</th>\n",
              "      <th>V17</th>\n",
              "      <th>V18</th>\n",
              "      <th>V19</th>\n",
              "      <th>V20</th>\n",
              "      <th>V21</th>\n",
              "      <th>V22</th>\n",
              "      <th>V23</th>\n",
              "      <th>V24</th>\n",
              "      <th>V25</th>\n",
              "      <th>V26</th>\n",
              "      <th>V27</th>\n",
              "      <th>V28</th>\n",
              "      <th>Amount</th>\n",
              "      <th>Class</th>\n",
              "    </tr>\n",
              "  </thead>\n",
              "  <tbody>\n",
              "    <tr>\n",
              "      <th>0</th>\n",
              "      <td>0</td>\n",
              "      <td>-1.359807</td>\n",
              "      <td>-0.072781</td>\n",
              "      <td>2.536347</td>\n",
              "      <td>1.378155</td>\n",
              "      <td>-0.338321</td>\n",
              "      <td>0.462388</td>\n",
              "      <td>0.239599</td>\n",
              "      <td>0.098698</td>\n",
              "      <td>0.363787</td>\n",
              "      <td>0.090794</td>\n",
              "      <td>-0.551600</td>\n",
              "      <td>-0.617801</td>\n",
              "      <td>-0.991390</td>\n",
              "      <td>-0.311169</td>\n",
              "      <td>1.468177</td>\n",
              "      <td>-0.470401</td>\n",
              "      <td>0.207971</td>\n",
              "      <td>0.025791</td>\n",
              "      <td>0.403993</td>\n",
              "      <td>0.251412</td>\n",
              "      <td>-0.018307</td>\n",
              "      <td>0.277838</td>\n",
              "      <td>-0.110474</td>\n",
              "      <td>0.066928</td>\n",
              "      <td>0.128539</td>\n",
              "      <td>-0.189115</td>\n",
              "      <td>0.133558</td>\n",
              "      <td>-0.021053</td>\n",
              "      <td>149.62</td>\n",
              "      <td>0.0</td>\n",
              "    </tr>\n",
              "    <tr>\n",
              "      <th>1</th>\n",
              "      <td>0</td>\n",
              "      <td>1.191857</td>\n",
              "      <td>0.266151</td>\n",
              "      <td>0.166480</td>\n",
              "      <td>0.448154</td>\n",
              "      <td>0.060018</td>\n",
              "      <td>-0.082361</td>\n",
              "      <td>-0.078803</td>\n",
              "      <td>0.085102</td>\n",
              "      <td>-0.255425</td>\n",
              "      <td>-0.166974</td>\n",
              "      <td>1.612727</td>\n",
              "      <td>1.065235</td>\n",
              "      <td>0.489095</td>\n",
              "      <td>-0.143772</td>\n",
              "      <td>0.635558</td>\n",
              "      <td>0.463917</td>\n",
              "      <td>-0.114805</td>\n",
              "      <td>-0.183361</td>\n",
              "      <td>-0.145783</td>\n",
              "      <td>-0.069083</td>\n",
              "      <td>-0.225775</td>\n",
              "      <td>-0.638672</td>\n",
              "      <td>0.101288</td>\n",
              "      <td>-0.339846</td>\n",
              "      <td>0.167170</td>\n",
              "      <td>0.125895</td>\n",
              "      <td>-0.008983</td>\n",
              "      <td>0.014724</td>\n",
              "      <td>2.69</td>\n",
              "      <td>0.0</td>\n",
              "    </tr>\n",
              "    <tr>\n",
              "      <th>2</th>\n",
              "      <td>1</td>\n",
              "      <td>-1.358354</td>\n",
              "      <td>-1.340163</td>\n",
              "      <td>1.773209</td>\n",
              "      <td>0.379780</td>\n",
              "      <td>-0.503198</td>\n",
              "      <td>1.800499</td>\n",
              "      <td>0.791461</td>\n",
              "      <td>0.247676</td>\n",
              "      <td>-1.514654</td>\n",
              "      <td>0.207643</td>\n",
              "      <td>0.624501</td>\n",
              "      <td>0.066084</td>\n",
              "      <td>0.717293</td>\n",
              "      <td>-0.165946</td>\n",
              "      <td>2.345865</td>\n",
              "      <td>-2.890083</td>\n",
              "      <td>1.109969</td>\n",
              "      <td>-0.121359</td>\n",
              "      <td>-2.261857</td>\n",
              "      <td>0.524980</td>\n",
              "      <td>0.247998</td>\n",
              "      <td>0.771679</td>\n",
              "      <td>0.909412</td>\n",
              "      <td>-0.689281</td>\n",
              "      <td>-0.327642</td>\n",
              "      <td>-0.139097</td>\n",
              "      <td>-0.055353</td>\n",
              "      <td>-0.059752</td>\n",
              "      <td>378.66</td>\n",
              "      <td>0.0</td>\n",
              "    </tr>\n",
              "    <tr>\n",
              "      <th>3</th>\n",
              "      <td>1</td>\n",
              "      <td>-0.966272</td>\n",
              "      <td>-0.185226</td>\n",
              "      <td>1.792993</td>\n",
              "      <td>-0.863291</td>\n",
              "      <td>-0.010309</td>\n",
              "      <td>1.247203</td>\n",
              "      <td>0.237609</td>\n",
              "      <td>0.377436</td>\n",
              "      <td>-1.387024</td>\n",
              "      <td>-0.054952</td>\n",
              "      <td>-0.226487</td>\n",
              "      <td>0.178228</td>\n",
              "      <td>0.507757</td>\n",
              "      <td>-0.287924</td>\n",
              "      <td>-0.631418</td>\n",
              "      <td>-1.059647</td>\n",
              "      <td>-0.684093</td>\n",
              "      <td>1.965775</td>\n",
              "      <td>-1.232622</td>\n",
              "      <td>-0.208038</td>\n",
              "      <td>-0.108300</td>\n",
              "      <td>0.005274</td>\n",
              "      <td>-0.190321</td>\n",
              "      <td>-1.175575</td>\n",
              "      <td>0.647376</td>\n",
              "      <td>-0.221929</td>\n",
              "      <td>0.062723</td>\n",
              "      <td>0.061458</td>\n",
              "      <td>123.50</td>\n",
              "      <td>0.0</td>\n",
              "    </tr>\n",
              "    <tr>\n",
              "      <th>4</th>\n",
              "      <td>2</td>\n",
              "      <td>-1.158233</td>\n",
              "      <td>0.877737</td>\n",
              "      <td>1.548718</td>\n",
              "      <td>0.403034</td>\n",
              "      <td>-0.407193</td>\n",
              "      <td>0.095921</td>\n",
              "      <td>0.592941</td>\n",
              "      <td>-0.270533</td>\n",
              "      <td>0.817739</td>\n",
              "      <td>0.753074</td>\n",
              "      <td>-0.822843</td>\n",
              "      <td>0.538196</td>\n",
              "      <td>1.345852</td>\n",
              "      <td>-1.119670</td>\n",
              "      <td>0.175121</td>\n",
              "      <td>-0.451449</td>\n",
              "      <td>-0.237033</td>\n",
              "      <td>-0.038195</td>\n",
              "      <td>0.803487</td>\n",
              "      <td>0.408542</td>\n",
              "      <td>-0.009431</td>\n",
              "      <td>0.798278</td>\n",
              "      <td>-0.137458</td>\n",
              "      <td>0.141267</td>\n",
              "      <td>-0.206010</td>\n",
              "      <td>0.502292</td>\n",
              "      <td>0.219422</td>\n",
              "      <td>0.215153</td>\n",
              "      <td>69.99</td>\n",
              "      <td>0.0</td>\n",
              "    </tr>\n",
              "  </tbody>\n",
              "</table>\n",
              "</div>"
            ],
            "text/plain": [
              "   Time        V1        V2        V3  ...       V27       V28  Amount  Class\n",
              "0     0 -1.359807 -0.072781  2.536347  ...  0.133558 -0.021053  149.62    0.0\n",
              "1     0  1.191857  0.266151  0.166480  ... -0.008983  0.014724    2.69    0.0\n",
              "2     1 -1.358354 -1.340163  1.773209  ... -0.055353 -0.059752  378.66    0.0\n",
              "3     1 -0.966272 -0.185226  1.792993  ...  0.062723  0.061458  123.50    0.0\n",
              "4     2 -1.158233  0.877737  1.548718  ...  0.219422  0.215153   69.99    0.0\n",
              "\n",
              "[5 rows x 31 columns]"
            ]
          },
          "metadata": {
            "tags": []
          },
          "execution_count": 6
        }
      ]
    },
    {
      "cell_type": "code",
      "metadata": {
        "colab": {
          "base_uri": "https://localhost:8080/",
          "height": 225
        },
        "id": "TdwEPbIP8bit",
        "outputId": "e90571ec-0826-4ad1-ab17-0a7cc460a109"
      },
      "source": [
        "# Last 5 rows of data\n",
        "credit_card_data.tail()"
      ],
      "execution_count": 7,
      "outputs": [
        {
          "output_type": "execute_result",
          "data": {
            "text/html": [
              "<div>\n",
              "<style scoped>\n",
              "    .dataframe tbody tr th:only-of-type {\n",
              "        vertical-align: middle;\n",
              "    }\n",
              "\n",
              "    .dataframe tbody tr th {\n",
              "        vertical-align: top;\n",
              "    }\n",
              "\n",
              "    .dataframe thead th {\n",
              "        text-align: right;\n",
              "    }\n",
              "</style>\n",
              "<table border=\"1\" class=\"dataframe\">\n",
              "  <thead>\n",
              "    <tr style=\"text-align: right;\">\n",
              "      <th></th>\n",
              "      <th>Time</th>\n",
              "      <th>V1</th>\n",
              "      <th>V2</th>\n",
              "      <th>V3</th>\n",
              "      <th>V4</th>\n",
              "      <th>V5</th>\n",
              "      <th>V6</th>\n",
              "      <th>V7</th>\n",
              "      <th>V8</th>\n",
              "      <th>V9</th>\n",
              "      <th>V10</th>\n",
              "      <th>V11</th>\n",
              "      <th>V12</th>\n",
              "      <th>V13</th>\n",
              "      <th>V14</th>\n",
              "      <th>V15</th>\n",
              "      <th>V16</th>\n",
              "      <th>V17</th>\n",
              "      <th>V18</th>\n",
              "      <th>V19</th>\n",
              "      <th>V20</th>\n",
              "      <th>V21</th>\n",
              "      <th>V22</th>\n",
              "      <th>V23</th>\n",
              "      <th>V24</th>\n",
              "      <th>V25</th>\n",
              "      <th>V26</th>\n",
              "      <th>V27</th>\n",
              "      <th>V28</th>\n",
              "      <th>Amount</th>\n",
              "      <th>Class</th>\n",
              "    </tr>\n",
              "  </thead>\n",
              "  <tbody>\n",
              "    <tr>\n",
              "      <th>35737</th>\n",
              "      <td>38240</td>\n",
              "      <td>1.232390</td>\n",
              "      <td>0.122010</td>\n",
              "      <td>0.157352</td>\n",
              "      <td>0.261906</td>\n",
              "      <td>0.158523</td>\n",
              "      <td>0.273022</td>\n",
              "      <td>-0.143169</td>\n",
              "      <td>0.138664</td>\n",
              "      <td>-0.146805</td>\n",
              "      <td>0.063125</td>\n",
              "      <td>0.947675</td>\n",
              "      <td>0.817930</td>\n",
              "      <td>0.257093</td>\n",
              "      <td>0.434193</td>\n",
              "      <td>0.654576</td>\n",
              "      <td>0.452537</td>\n",
              "      <td>-0.690387</td>\n",
              "      <td>-0.214031</td>\n",
              "      <td>0.124560</td>\n",
              "      <td>-0.093451</td>\n",
              "      <td>-0.233618</td>\n",
              "      <td>-0.677894</td>\n",
              "      <td>0.052511</td>\n",
              "      <td>-0.816369</td>\n",
              "      <td>0.221553</td>\n",
              "      <td>0.158446</td>\n",
              "      <td>-0.018118</td>\n",
              "      <td>-0.003168</td>\n",
              "      <td>1.79</td>\n",
              "      <td>0.0</td>\n",
              "    </tr>\n",
              "    <tr>\n",
              "      <th>35738</th>\n",
              "      <td>38240</td>\n",
              "      <td>1.114040</td>\n",
              "      <td>0.571203</td>\n",
              "      <td>0.427035</td>\n",
              "      <td>2.442135</td>\n",
              "      <td>-0.020967</td>\n",
              "      <td>-0.501774</td>\n",
              "      <td>0.320237</td>\n",
              "      <td>-0.082876</td>\n",
              "      <td>-1.182685</td>\n",
              "      <td>0.873962</td>\n",
              "      <td>1.324902</td>\n",
              "      <td>0.612958</td>\n",
              "      <td>-0.207520</td>\n",
              "      <td>0.647112</td>\n",
              "      <td>-0.409171</td>\n",
              "      <td>0.605427</td>\n",
              "      <td>-0.697701</td>\n",
              "      <td>-0.000345</td>\n",
              "      <td>-0.709022</td>\n",
              "      <td>-0.117441</td>\n",
              "      <td>0.028826</td>\n",
              "      <td>-0.032705</td>\n",
              "      <td>-0.056634</td>\n",
              "      <td>0.535225</td>\n",
              "      <td>0.540930</td>\n",
              "      <td>-0.025773</td>\n",
              "      <td>-0.035775</td>\n",
              "      <td>0.011219</td>\n",
              "      <td>24.99</td>\n",
              "      <td>0.0</td>\n",
              "    </tr>\n",
              "    <tr>\n",
              "      <th>35739</th>\n",
              "      <td>38241</td>\n",
              "      <td>1.057020</td>\n",
              "      <td>0.007895</td>\n",
              "      <td>0.239256</td>\n",
              "      <td>1.236048</td>\n",
              "      <td>0.032239</td>\n",
              "      <td>0.350868</td>\n",
              "      <td>0.023279</td>\n",
              "      <td>0.137328</td>\n",
              "      <td>0.037981</td>\n",
              "      <td>0.021407</td>\n",
              "      <td>0.880712</td>\n",
              "      <td>1.148148</td>\n",
              "      <td>-0.081671</td>\n",
              "      <td>0.239341</td>\n",
              "      <td>-0.772170</td>\n",
              "      <td>-0.428115</td>\n",
              "      <td>-0.109138</td>\n",
              "      <td>-0.374709</td>\n",
              "      <td>0.030612</td>\n",
              "      <td>-0.071335</td>\n",
              "      <td>-0.043316</td>\n",
              "      <td>-0.022866</td>\n",
              "      <td>-0.155991</td>\n",
              "      <td>-0.283221</td>\n",
              "      <td>0.662538</td>\n",
              "      <td>-0.314989</td>\n",
              "      <td>0.027467</td>\n",
              "      <td>0.010613</td>\n",
              "      <td>53.96</td>\n",
              "      <td>0.0</td>\n",
              "    </tr>\n",
              "    <tr>\n",
              "      <th>35740</th>\n",
              "      <td>38241</td>\n",
              "      <td>-1.546226</td>\n",
              "      <td>0.693338</td>\n",
              "      <td>1.002815</td>\n",
              "      <td>-1.528992</td>\n",
              "      <td>0.294692</td>\n",
              "      <td>-0.464031</td>\n",
              "      <td>0.264880</td>\n",
              "      <td>0.307358</td>\n",
              "      <td>0.022915</td>\n",
              "      <td>-0.126924</td>\n",
              "      <td>0.499437</td>\n",
              "      <td>0.579231</td>\n",
              "      <td>0.357203</td>\n",
              "      <td>0.027726</td>\n",
              "      <td>-0.108605</td>\n",
              "      <td>1.062326</td>\n",
              "      <td>-1.207949</td>\n",
              "      <td>0.377082</td>\n",
              "      <td>-0.062373</td>\n",
              "      <td>-0.027432</td>\n",
              "      <td>-0.176713</td>\n",
              "      <td>-0.164637</td>\n",
              "      <td>0.197999</td>\n",
              "      <td>-0.463070</td>\n",
              "      <td>-0.118578</td>\n",
              "      <td>0.739989</td>\n",
              "      <td>0.043625</td>\n",
              "      <td>-0.140629</td>\n",
              "      <td>0.76</td>\n",
              "      <td>0.0</td>\n",
              "    </tr>\n",
              "    <tr>\n",
              "      <th>35741</th>\n",
              "      <td>38241</td>\n",
              "      <td>-0.231062</td>\n",
              "      <td>0.243033</td>\n",
              "      <td>1.071749</td>\n",
              "      <td>-0.324598</td>\n",
              "      <td>-0.000000</td>\n",
              "      <td>NaN</td>\n",
              "      <td>NaN</td>\n",
              "      <td>NaN</td>\n",
              "      <td>NaN</td>\n",
              "      <td>NaN</td>\n",
              "      <td>NaN</td>\n",
              "      <td>NaN</td>\n",
              "      <td>NaN</td>\n",
              "      <td>NaN</td>\n",
              "      <td>NaN</td>\n",
              "      <td>NaN</td>\n",
              "      <td>NaN</td>\n",
              "      <td>NaN</td>\n",
              "      <td>NaN</td>\n",
              "      <td>NaN</td>\n",
              "      <td>NaN</td>\n",
              "      <td>NaN</td>\n",
              "      <td>NaN</td>\n",
              "      <td>NaN</td>\n",
              "      <td>NaN</td>\n",
              "      <td>NaN</td>\n",
              "      <td>NaN</td>\n",
              "      <td>NaN</td>\n",
              "      <td>NaN</td>\n",
              "      <td>NaN</td>\n",
              "    </tr>\n",
              "  </tbody>\n",
              "</table>\n",
              "</div>"
            ],
            "text/plain": [
              "        Time        V1        V2        V3  ...       V27       V28  Amount  Class\n",
              "35737  38240  1.232390  0.122010  0.157352  ... -0.018118 -0.003168    1.79    0.0\n",
              "35738  38240  1.114040  0.571203  0.427035  ... -0.035775  0.011219   24.99    0.0\n",
              "35739  38241  1.057020  0.007895  0.239256  ...  0.027467  0.010613   53.96    0.0\n",
              "35740  38241 -1.546226  0.693338  1.002815  ...  0.043625 -0.140629    0.76    0.0\n",
              "35741  38241 -0.231062  0.243033  1.071749  ...       NaN       NaN     NaN    NaN\n",
              "\n",
              "[5 rows x 31 columns]"
            ]
          },
          "metadata": {
            "tags": []
          },
          "execution_count": 7
        }
      ]
    },
    {
      "cell_type": "code",
      "metadata": {
        "colab": {
          "base_uri": "https://localhost:8080/"
        },
        "id": "vQaY3gyu8jDf",
        "outputId": "26a56bf5-55bf-44f8-cda2-0957b46802d7"
      },
      "source": [
        "# getting the basic information about the dataset\n",
        "credit_card_data.info()"
      ],
      "execution_count": 8,
      "outputs": [
        {
          "output_type": "stream",
          "text": [
            "<class 'pandas.core.frame.DataFrame'>\n",
            "RangeIndex: 35742 entries, 0 to 35741\n",
            "Data columns (total 31 columns):\n",
            " #   Column  Non-Null Count  Dtype  \n",
            "---  ------  --------------  -----  \n",
            " 0   Time    35742 non-null  int64  \n",
            " 1   V1      35742 non-null  float64\n",
            " 2   V2      35742 non-null  float64\n",
            " 3   V3      35742 non-null  float64\n",
            " 4   V4      35742 non-null  float64\n",
            " 5   V5      35742 non-null  float64\n",
            " 6   V6      35741 non-null  float64\n",
            " 7   V7      35741 non-null  float64\n",
            " 8   V8      35741 non-null  float64\n",
            " 9   V9      35741 non-null  float64\n",
            " 10  V10     35741 non-null  float64\n",
            " 11  V11     35741 non-null  float64\n",
            " 12  V12     35741 non-null  float64\n",
            " 13  V13     35741 non-null  float64\n",
            " 14  V14     35741 non-null  float64\n",
            " 15  V15     35741 non-null  float64\n",
            " 16  V16     35741 non-null  float64\n",
            " 17  V17     35741 non-null  float64\n",
            " 18  V18     35741 non-null  float64\n",
            " 19  V19     35741 non-null  float64\n",
            " 20  V20     35741 non-null  float64\n",
            " 21  V21     35741 non-null  float64\n",
            " 22  V22     35741 non-null  float64\n",
            " 23  V23     35741 non-null  float64\n",
            " 24  V24     35741 non-null  float64\n",
            " 25  V25     35741 non-null  float64\n",
            " 26  V26     35741 non-null  float64\n",
            " 27  V27     35741 non-null  float64\n",
            " 28  V28     35741 non-null  float64\n",
            " 29  Amount  35741 non-null  float64\n",
            " 30  Class   35741 non-null  float64\n",
            "dtypes: float64(30), int64(1)\n",
            "memory usage: 8.5 MB\n"
          ],
          "name": "stdout"
        }
      ]
    },
    {
      "cell_type": "code",
      "metadata": {
        "colab": {
          "base_uri": "https://localhost:8080/"
        },
        "id": "pxAKpDlM9Hth",
        "outputId": "b38b0413-2948-4892-f746-3b97aeeaa223"
      },
      "source": [
        "# check the missing values of the dataset\n",
        "credit_card_data.isnull().sum()"
      ],
      "execution_count": 9,
      "outputs": [
        {
          "output_type": "execute_result",
          "data": {
            "text/plain": [
              "Time      0\n",
              "V1        0\n",
              "V2        0\n",
              "V3        0\n",
              "V4        0\n",
              "V5        0\n",
              "V6        1\n",
              "V7        1\n",
              "V8        1\n",
              "V9        1\n",
              "V10       1\n",
              "V11       1\n",
              "V12       1\n",
              "V13       1\n",
              "V14       1\n",
              "V15       1\n",
              "V16       1\n",
              "V17       1\n",
              "V18       1\n",
              "V19       1\n",
              "V20       1\n",
              "V21       1\n",
              "V22       1\n",
              "V23       1\n",
              "V24       1\n",
              "V25       1\n",
              "V26       1\n",
              "V27       1\n",
              "V28       1\n",
              "Amount    1\n",
              "Class     1\n",
              "dtype: int64"
            ]
          },
          "metadata": {
            "tags": []
          },
          "execution_count": 9
        }
      ]
    },
    {
      "cell_type": "code",
      "metadata": {
        "id": "_vEmW4te9Vjv"
      },
      "source": [
        "# Removing the null value at last records\n",
        "credit_card_data.drop(credit_card_data.tail(2).index, inplace= True)"
      ],
      "execution_count": 10,
      "outputs": []
    },
    {
      "cell_type": "code",
      "metadata": {
        "colab": {
          "base_uri": "https://localhost:8080/",
          "height": 225
        },
        "id": "ZhHOfa6B_HbX",
        "outputId": "be576cb3-02e8-475b-d584-3d72b5076c04"
      },
      "source": [
        "credit_card_data.tail()"
      ],
      "execution_count": 11,
      "outputs": [
        {
          "output_type": "execute_result",
          "data": {
            "text/html": [
              "<div>\n",
              "<style scoped>\n",
              "    .dataframe tbody tr th:only-of-type {\n",
              "        vertical-align: middle;\n",
              "    }\n",
              "\n",
              "    .dataframe tbody tr th {\n",
              "        vertical-align: top;\n",
              "    }\n",
              "\n",
              "    .dataframe thead th {\n",
              "        text-align: right;\n",
              "    }\n",
              "</style>\n",
              "<table border=\"1\" class=\"dataframe\">\n",
              "  <thead>\n",
              "    <tr style=\"text-align: right;\">\n",
              "      <th></th>\n",
              "      <th>Time</th>\n",
              "      <th>V1</th>\n",
              "      <th>V2</th>\n",
              "      <th>V3</th>\n",
              "      <th>V4</th>\n",
              "      <th>V5</th>\n",
              "      <th>V6</th>\n",
              "      <th>V7</th>\n",
              "      <th>V8</th>\n",
              "      <th>V9</th>\n",
              "      <th>V10</th>\n",
              "      <th>V11</th>\n",
              "      <th>V12</th>\n",
              "      <th>V13</th>\n",
              "      <th>V14</th>\n",
              "      <th>V15</th>\n",
              "      <th>V16</th>\n",
              "      <th>V17</th>\n",
              "      <th>V18</th>\n",
              "      <th>V19</th>\n",
              "      <th>V20</th>\n",
              "      <th>V21</th>\n",
              "      <th>V22</th>\n",
              "      <th>V23</th>\n",
              "      <th>V24</th>\n",
              "      <th>V25</th>\n",
              "      <th>V26</th>\n",
              "      <th>V27</th>\n",
              "      <th>V28</th>\n",
              "      <th>Amount</th>\n",
              "      <th>Class</th>\n",
              "    </tr>\n",
              "  </thead>\n",
              "  <tbody>\n",
              "    <tr>\n",
              "      <th>35735</th>\n",
              "      <td>38239</td>\n",
              "      <td>-1.753297</td>\n",
              "      <td>-0.115577</td>\n",
              "      <td>1.333006</td>\n",
              "      <td>0.544401</td>\n",
              "      <td>-0.481036</td>\n",
              "      <td>-0.527319</td>\n",
              "      <td>1.523210</td>\n",
              "      <td>-0.411381</td>\n",
              "      <td>-0.601413</td>\n",
              "      <td>-0.310903</td>\n",
              "      <td>-0.267708</td>\n",
              "      <td>-0.272746</td>\n",
              "      <td>0.097632</td>\n",
              "      <td>0.123593</td>\n",
              "      <td>1.391540</td>\n",
              "      <td>0.021162</td>\n",
              "      <td>-0.158356</td>\n",
              "      <td>-0.259016</td>\n",
              "      <td>0.916386</td>\n",
              "      <td>-0.460371</td>\n",
              "      <td>-0.342050</td>\n",
              "      <td>-0.377250</td>\n",
              "      <td>0.629557</td>\n",
              "      <td>0.406341</td>\n",
              "      <td>0.307186</td>\n",
              "      <td>0.432137</td>\n",
              "      <td>0.121737</td>\n",
              "      <td>-0.139373</td>\n",
              "      <td>232.35</td>\n",
              "      <td>0.0</td>\n",
              "    </tr>\n",
              "    <tr>\n",
              "      <th>35736</th>\n",
              "      <td>38239</td>\n",
              "      <td>-3.120568</td>\n",
              "      <td>-0.121316</td>\n",
              "      <td>1.307875</td>\n",
              "      <td>1.582101</td>\n",
              "      <td>2.362245</td>\n",
              "      <td>-0.693955</td>\n",
              "      <td>0.194612</td>\n",
              "      <td>-1.138886</td>\n",
              "      <td>-1.058936</td>\n",
              "      <td>1.244309</td>\n",
              "      <td>1.286694</td>\n",
              "      <td>0.131277</td>\n",
              "      <td>-0.727686</td>\n",
              "      <td>0.276226</td>\n",
              "      <td>-0.525055</td>\n",
              "      <td>0.377903</td>\n",
              "      <td>-0.750974</td>\n",
              "      <td>-0.446819</td>\n",
              "      <td>-1.306655</td>\n",
              "      <td>-1.154711</td>\n",
              "      <td>0.615703</td>\n",
              "      <td>-0.139908</td>\n",
              "      <td>-0.691756</td>\n",
              "      <td>0.046087</td>\n",
              "      <td>0.558709</td>\n",
              "      <td>-0.070668</td>\n",
              "      <td>-0.870421</td>\n",
              "      <td>0.624730</td>\n",
              "      <td>2.28</td>\n",
              "      <td>0.0</td>\n",
              "    </tr>\n",
              "    <tr>\n",
              "      <th>35737</th>\n",
              "      <td>38240</td>\n",
              "      <td>1.232390</td>\n",
              "      <td>0.122010</td>\n",
              "      <td>0.157352</td>\n",
              "      <td>0.261906</td>\n",
              "      <td>0.158523</td>\n",
              "      <td>0.273022</td>\n",
              "      <td>-0.143169</td>\n",
              "      <td>0.138664</td>\n",
              "      <td>-0.146805</td>\n",
              "      <td>0.063125</td>\n",
              "      <td>0.947675</td>\n",
              "      <td>0.817930</td>\n",
              "      <td>0.257093</td>\n",
              "      <td>0.434193</td>\n",
              "      <td>0.654576</td>\n",
              "      <td>0.452537</td>\n",
              "      <td>-0.690387</td>\n",
              "      <td>-0.214031</td>\n",
              "      <td>0.124560</td>\n",
              "      <td>-0.093451</td>\n",
              "      <td>-0.233618</td>\n",
              "      <td>-0.677894</td>\n",
              "      <td>0.052511</td>\n",
              "      <td>-0.816369</td>\n",
              "      <td>0.221553</td>\n",
              "      <td>0.158446</td>\n",
              "      <td>-0.018118</td>\n",
              "      <td>-0.003168</td>\n",
              "      <td>1.79</td>\n",
              "      <td>0.0</td>\n",
              "    </tr>\n",
              "    <tr>\n",
              "      <th>35738</th>\n",
              "      <td>38240</td>\n",
              "      <td>1.114040</td>\n",
              "      <td>0.571203</td>\n",
              "      <td>0.427035</td>\n",
              "      <td>2.442135</td>\n",
              "      <td>-0.020967</td>\n",
              "      <td>-0.501774</td>\n",
              "      <td>0.320237</td>\n",
              "      <td>-0.082876</td>\n",
              "      <td>-1.182685</td>\n",
              "      <td>0.873962</td>\n",
              "      <td>1.324902</td>\n",
              "      <td>0.612958</td>\n",
              "      <td>-0.207520</td>\n",
              "      <td>0.647112</td>\n",
              "      <td>-0.409171</td>\n",
              "      <td>0.605427</td>\n",
              "      <td>-0.697701</td>\n",
              "      <td>-0.000345</td>\n",
              "      <td>-0.709022</td>\n",
              "      <td>-0.117441</td>\n",
              "      <td>0.028826</td>\n",
              "      <td>-0.032705</td>\n",
              "      <td>-0.056634</td>\n",
              "      <td>0.535225</td>\n",
              "      <td>0.540930</td>\n",
              "      <td>-0.025773</td>\n",
              "      <td>-0.035775</td>\n",
              "      <td>0.011219</td>\n",
              "      <td>24.99</td>\n",
              "      <td>0.0</td>\n",
              "    </tr>\n",
              "    <tr>\n",
              "      <th>35739</th>\n",
              "      <td>38241</td>\n",
              "      <td>1.057020</td>\n",
              "      <td>0.007895</td>\n",
              "      <td>0.239256</td>\n",
              "      <td>1.236048</td>\n",
              "      <td>0.032239</td>\n",
              "      <td>0.350868</td>\n",
              "      <td>0.023279</td>\n",
              "      <td>0.137328</td>\n",
              "      <td>0.037981</td>\n",
              "      <td>0.021407</td>\n",
              "      <td>0.880712</td>\n",
              "      <td>1.148148</td>\n",
              "      <td>-0.081671</td>\n",
              "      <td>0.239341</td>\n",
              "      <td>-0.772170</td>\n",
              "      <td>-0.428115</td>\n",
              "      <td>-0.109138</td>\n",
              "      <td>-0.374709</td>\n",
              "      <td>0.030612</td>\n",
              "      <td>-0.071335</td>\n",
              "      <td>-0.043316</td>\n",
              "      <td>-0.022866</td>\n",
              "      <td>-0.155991</td>\n",
              "      <td>-0.283221</td>\n",
              "      <td>0.662538</td>\n",
              "      <td>-0.314989</td>\n",
              "      <td>0.027467</td>\n",
              "      <td>0.010613</td>\n",
              "      <td>53.96</td>\n",
              "      <td>0.0</td>\n",
              "    </tr>\n",
              "  </tbody>\n",
              "</table>\n",
              "</div>"
            ],
            "text/plain": [
              "        Time        V1        V2        V3  ...       V27       V28  Amount  Class\n",
              "35735  38239 -1.753297 -0.115577  1.333006  ...  0.121737 -0.139373  232.35    0.0\n",
              "35736  38239 -3.120568 -0.121316  1.307875  ... -0.870421  0.624730    2.28    0.0\n",
              "35737  38240  1.232390  0.122010  0.157352  ... -0.018118 -0.003168    1.79    0.0\n",
              "35738  38240  1.114040  0.571203  0.427035  ... -0.035775  0.011219   24.99    0.0\n",
              "35739  38241  1.057020  0.007895  0.239256  ...  0.027467  0.010613   53.96    0.0\n",
              "\n",
              "[5 rows x 31 columns]"
            ]
          },
          "metadata": {
            "tags": []
          },
          "execution_count": 11
        }
      ]
    },
    {
      "cell_type": "code",
      "metadata": {
        "colab": {
          "base_uri": "https://localhost:8080/"
        },
        "id": "iXBnvts2_K94",
        "outputId": "7b5bc5ba-27ce-4cb9-d158-8f9b76454acb"
      },
      "source": [
        "credit_card_data.isnull().sum()"
      ],
      "execution_count": 12,
      "outputs": [
        {
          "output_type": "execute_result",
          "data": {
            "text/plain": [
              "Time      0\n",
              "V1        0\n",
              "V2        0\n",
              "V3        0\n",
              "V4        0\n",
              "V5        0\n",
              "V6        0\n",
              "V7        0\n",
              "V8        0\n",
              "V9        0\n",
              "V10       0\n",
              "V11       0\n",
              "V12       0\n",
              "V13       0\n",
              "V14       0\n",
              "V15       0\n",
              "V16       0\n",
              "V17       0\n",
              "V18       0\n",
              "V19       0\n",
              "V20       0\n",
              "V21       0\n",
              "V22       0\n",
              "V23       0\n",
              "V24       0\n",
              "V25       0\n",
              "V26       0\n",
              "V27       0\n",
              "V28       0\n",
              "Amount    0\n",
              "Class     0\n",
              "dtype: int64"
            ]
          },
          "metadata": {
            "tags": []
          },
          "execution_count": 12
        }
      ]
    },
    {
      "cell_type": "code",
      "metadata": {
        "colab": {
          "base_uri": "https://localhost:8080/"
        },
        "id": "zzjgQgjy_TYs",
        "outputId": "edbc2d63-8ae8-4e4c-d900-6025354e18e9"
      },
      "source": [
        "# Distribution of the legit transaction and fradulent transaction\n",
        "credit_card_data['Class'].value_counts()"
      ],
      "execution_count": 13,
      "outputs": [
        {
          "output_type": "execute_result",
          "data": {
            "text/plain": [
              "0.0    35637\n",
              "1.0      103\n",
              "Name: Class, dtype: int64"
            ]
          },
          "metadata": {
            "tags": []
          },
          "execution_count": 13
        }
      ]
    },
    {
      "cell_type": "markdown",
      "metadata": {
        "id": "wIHNT_Ov_3DM"
      },
      "source": [
        "0 ---> legit (Normal) transaction\n",
        "\n",
        "1 ---> fraudulent transaction\n",
        "\n",
        "This dataset is highly unbalanced"
      ]
    },
    {
      "cell_type": "code",
      "metadata": {
        "id": "7bdAJSsn_zJR"
      },
      "source": [
        "# Separating legit and froudulent data for Analysis\n",
        "legit = credit_card_data[credit_card_data.Class == 0]\n",
        "fraudulent = credit_card_data[credit_card_data.Class == 1]"
      ],
      "execution_count": 14,
      "outputs": []
    },
    {
      "cell_type": "code",
      "metadata": {
        "colab": {
          "base_uri": "https://localhost:8080/"
        },
        "id": "juOhI3kTBHrx",
        "outputId": "68773ef3-5191-4311-8503-1aaa95b35245"
      },
      "source": [
        "# Statistical measure of the data\n",
        "legit.Amount.describe()"
      ],
      "execution_count": 18,
      "outputs": [
        {
          "output_type": "execute_result",
          "data": {
            "text/plain": [
              "count    35637.000000\n",
              "mean        84.187582\n",
              "std        227.226117\n",
              "min          0.000000\n",
              "25%          7.000000\n",
              "50%         22.000000\n",
              "75%         76.000000\n",
              "max       7879.420000\n",
              "Name: Amount, dtype: float64"
            ]
          },
          "metadata": {
            "tags": []
          },
          "execution_count": 18
        }
      ]
    },
    {
      "cell_type": "code",
      "metadata": {
        "colab": {
          "base_uri": "https://localhost:8080/"
        },
        "id": "-3o-4F17BWFH",
        "outputId": "ea9f26f9-6166-4fcd-abf6-0b3417c7d30a"
      },
      "source": [
        "fraudulent.Amount.describe()"
      ],
      "execution_count": 19,
      "outputs": [
        {
          "output_type": "execute_result",
          "data": {
            "text/plain": [
              "count     103.000000\n",
              "mean       90.471165\n",
              "std       247.173335\n",
              "min         0.000000\n",
              "25%         1.000000\n",
              "50%         3.760000\n",
              "75%        99.990000\n",
              "max      1809.680000\n",
              "Name: Amount, dtype: float64"
            ]
          },
          "metadata": {
            "tags": []
          },
          "execution_count": 19
        }
      ]
    },
    {
      "cell_type": "code",
      "metadata": {
        "colab": {
          "base_uri": "https://localhost:8080/",
          "height": 163
        },
        "id": "qDfh-bqpBs5u",
        "outputId": "e13fc29d-3948-4c06-d917-b95e80e9c14b"
      },
      "source": [
        "# Compare the value for both transation\n",
        "credit_card_data.groupby('Class').mean()"
      ],
      "execution_count": 20,
      "outputs": [
        {
          "output_type": "execute_result",
          "data": {
            "text/html": [
              "<div>\n",
              "<style scoped>\n",
              "    .dataframe tbody tr th:only-of-type {\n",
              "        vertical-align: middle;\n",
              "    }\n",
              "\n",
              "    .dataframe tbody tr th {\n",
              "        vertical-align: top;\n",
              "    }\n",
              "\n",
              "    .dataframe thead th {\n",
              "        text-align: right;\n",
              "    }\n",
              "</style>\n",
              "<table border=\"1\" class=\"dataframe\">\n",
              "  <thead>\n",
              "    <tr style=\"text-align: right;\">\n",
              "      <th></th>\n",
              "      <th>Time</th>\n",
              "      <th>V1</th>\n",
              "      <th>V2</th>\n",
              "      <th>V3</th>\n",
              "      <th>V4</th>\n",
              "      <th>V5</th>\n",
              "      <th>V6</th>\n",
              "      <th>V7</th>\n",
              "      <th>V8</th>\n",
              "      <th>V9</th>\n",
              "      <th>V10</th>\n",
              "      <th>V11</th>\n",
              "      <th>V12</th>\n",
              "      <th>V13</th>\n",
              "      <th>V14</th>\n",
              "      <th>V15</th>\n",
              "      <th>V16</th>\n",
              "      <th>V17</th>\n",
              "      <th>V18</th>\n",
              "      <th>V19</th>\n",
              "      <th>V20</th>\n",
              "      <th>V21</th>\n",
              "      <th>V22</th>\n",
              "      <th>V23</th>\n",
              "      <th>V24</th>\n",
              "      <th>V25</th>\n",
              "      <th>V26</th>\n",
              "      <th>V27</th>\n",
              "      <th>V28</th>\n",
              "      <th>Amount</th>\n",
              "    </tr>\n",
              "    <tr>\n",
              "      <th>Class</th>\n",
              "      <th></th>\n",
              "      <th></th>\n",
              "      <th></th>\n",
              "      <th></th>\n",
              "      <th></th>\n",
              "      <th></th>\n",
              "      <th></th>\n",
              "      <th></th>\n",
              "      <th></th>\n",
              "      <th></th>\n",
              "      <th></th>\n",
              "      <th></th>\n",
              "      <th></th>\n",
              "      <th></th>\n",
              "      <th></th>\n",
              "      <th></th>\n",
              "      <th></th>\n",
              "      <th></th>\n",
              "      <th></th>\n",
              "      <th></th>\n",
              "      <th></th>\n",
              "      <th></th>\n",
              "      <th></th>\n",
              "      <th></th>\n",
              "      <th></th>\n",
              "      <th></th>\n",
              "      <th></th>\n",
              "      <th></th>\n",
              "      <th></th>\n",
              "      <th></th>\n",
              "    </tr>\n",
              "  </thead>\n",
              "  <tbody>\n",
              "    <tr>\n",
              "      <th>0.0</th>\n",
              "      <td>24006.614474</td>\n",
              "      <td>-0.186555</td>\n",
              "      <td>0.055891</td>\n",
              "      <td>0.752019</td>\n",
              "      <td>0.179275</td>\n",
              "      <td>-0.201569</td>\n",
              "      <td>0.102532</td>\n",
              "      <td>-0.094816</td>\n",
              "      <td>0.021663</td>\n",
              "      <td>0.268776</td>\n",
              "      <td>-0.067682</td>\n",
              "      <td>0.441762</td>\n",
              "      <td>-0.516735</td>\n",
              "      <td>0.294794</td>\n",
              "      <td>0.294002</td>\n",
              "      <td>0.082892</td>\n",
              "      <td>0.013504</td>\n",
              "      <td>0.189423</td>\n",
              "      <td>-0.079420</td>\n",
              "      <td>-0.038353</td>\n",
              "      <td>0.043060</td>\n",
              "      <td>-0.032778</td>\n",
              "      <td>-0.112857</td>\n",
              "      <td>-0.040652</td>\n",
              "      <td>0.008182</td>\n",
              "      <td>0.135491</td>\n",
              "      <td>0.021334</td>\n",
              "      <td>0.008490</td>\n",
              "      <td>0.003553</td>\n",
              "      <td>84.187582</td>\n",
              "    </tr>\n",
              "    <tr>\n",
              "      <th>1.0</th>\n",
              "      <td>20498.291262</td>\n",
              "      <td>-7.762676</td>\n",
              "      <td>5.838647</td>\n",
              "      <td>-10.957218</td>\n",
              "      <td>5.911555</td>\n",
              "      <td>-5.453798</td>\n",
              "      <td>-2.306085</td>\n",
              "      <td>-7.743100</td>\n",
              "      <td>3.867920</td>\n",
              "      <td>-2.961800</td>\n",
              "      <td>-6.700936</td>\n",
              "      <td>5.501599</td>\n",
              "      <td>-8.404377</td>\n",
              "      <td>0.413922</td>\n",
              "      <td>-8.354800</td>\n",
              "      <td>-0.029473</td>\n",
              "      <td>-4.949284</td>\n",
              "      <td>-8.060624</td>\n",
              "      <td>-2.865933</td>\n",
              "      <td>0.477900</td>\n",
              "      <td>0.652319</td>\n",
              "      <td>0.628539</td>\n",
              "      <td>-0.354537</td>\n",
              "      <td>-0.362138</td>\n",
              "      <td>-0.234731</td>\n",
              "      <td>0.300023</td>\n",
              "      <td>0.180390</td>\n",
              "      <td>0.822304</td>\n",
              "      <td>0.102481</td>\n",
              "      <td>90.471165</td>\n",
              "    </tr>\n",
              "  </tbody>\n",
              "</table>\n",
              "</div>"
            ],
            "text/plain": [
              "               Time        V1        V2  ...       V27       V28     Amount\n",
              "Class                                    ...                               \n",
              "0.0    24006.614474 -0.186555  0.055891  ...  0.008490  0.003553  84.187582\n",
              "1.0    20498.291262 -7.762676  5.838647  ...  0.822304  0.102481  90.471165\n",
              "\n",
              "[2 rows x 30 columns]"
            ]
          },
          "metadata": {
            "tags": []
          },
          "execution_count": 20
        }
      ]
    },
    {
      "cell_type": "markdown",
      "metadata": {
        "id": "qyJsrGM8CPTN"
      },
      "source": [
        "Under-Sampling\n",
        "\n",
        "Build a sample dataset containing similar distribution of normal transactions and Fraudulent Transactions"
      ]
    },
    {
      "cell_type": "markdown",
      "metadata": {
        "id": "Vzo223OaCfCQ"
      },
      "source": [
        "Number of Fraudulent Transactions --> 103\n"
      ]
    },
    {
      "cell_type": "code",
      "metadata": {
        "id": "tbesxtJqCEkc"
      },
      "source": [
        "legit_sample = legit.sample(n=103)"
      ],
      "execution_count": 21,
      "outputs": []
    },
    {
      "cell_type": "code",
      "metadata": {
        "id": "Prr_VeogC6kp"
      },
      "source": [
        "# Building new dataset by concatenating two dataset.\n",
        "new_dataset = pd.concat([legit_sample,fraudulent],axis = 0)"
      ],
      "execution_count": 25,
      "outputs": []
    },
    {
      "cell_type": "code",
      "metadata": {
        "colab": {
          "base_uri": "https://localhost:8080/"
        },
        "id": "B5po9s9oDijD",
        "outputId": "1a60e4b4-9f63-4e64-850b-e7b3a96e10b7"
      },
      "source": [
        "new_dataset.shape"
      ],
      "execution_count": 26,
      "outputs": [
        {
          "output_type": "execute_result",
          "data": {
            "text/plain": [
              "(206, 31)"
            ]
          },
          "metadata": {
            "tags": []
          },
          "execution_count": 26
        }
      ]
    },
    {
      "cell_type": "code",
      "metadata": {
        "colab": {
          "base_uri": "https://localhost:8080/",
          "height": 225
        },
        "id": "Y0Ud63cFD2XH",
        "outputId": "23cc9a4f-b03f-474b-f277-4ae7f085085b"
      },
      "source": [
        "new_dataset.head()"
      ],
      "execution_count": 27,
      "outputs": [
        {
          "output_type": "execute_result",
          "data": {
            "text/html": [
              "<div>\n",
              "<style scoped>\n",
              "    .dataframe tbody tr th:only-of-type {\n",
              "        vertical-align: middle;\n",
              "    }\n",
              "\n",
              "    .dataframe tbody tr th {\n",
              "        vertical-align: top;\n",
              "    }\n",
              "\n",
              "    .dataframe thead th {\n",
              "        text-align: right;\n",
              "    }\n",
              "</style>\n",
              "<table border=\"1\" class=\"dataframe\">\n",
              "  <thead>\n",
              "    <tr style=\"text-align: right;\">\n",
              "      <th></th>\n",
              "      <th>Time</th>\n",
              "      <th>V1</th>\n",
              "      <th>V2</th>\n",
              "      <th>V3</th>\n",
              "      <th>V4</th>\n",
              "      <th>V5</th>\n",
              "      <th>V6</th>\n",
              "      <th>V7</th>\n",
              "      <th>V8</th>\n",
              "      <th>V9</th>\n",
              "      <th>V10</th>\n",
              "      <th>V11</th>\n",
              "      <th>V12</th>\n",
              "      <th>V13</th>\n",
              "      <th>V14</th>\n",
              "      <th>V15</th>\n",
              "      <th>V16</th>\n",
              "      <th>V17</th>\n",
              "      <th>V18</th>\n",
              "      <th>V19</th>\n",
              "      <th>V20</th>\n",
              "      <th>V21</th>\n",
              "      <th>V22</th>\n",
              "      <th>V23</th>\n",
              "      <th>V24</th>\n",
              "      <th>V25</th>\n",
              "      <th>V26</th>\n",
              "      <th>V27</th>\n",
              "      <th>V28</th>\n",
              "      <th>Amount</th>\n",
              "      <th>Class</th>\n",
              "    </tr>\n",
              "  </thead>\n",
              "  <tbody>\n",
              "    <tr>\n",
              "      <th>5934</th>\n",
              "      <td>6554</td>\n",
              "      <td>-3.931647</td>\n",
              "      <td>-3.754124</td>\n",
              "      <td>1.239639</td>\n",
              "      <td>-1.813277</td>\n",
              "      <td>1.148494</td>\n",
              "      <td>-3.013558</td>\n",
              "      <td>-1.356821</td>\n",
              "      <td>0.504604</td>\n",
              "      <td>2.867527</td>\n",
              "      <td>-2.880561</td>\n",
              "      <td>0.267342</td>\n",
              "      <td>-2.376841</td>\n",
              "      <td>0.298596</td>\n",
              "      <td>2.333695</td>\n",
              "      <td>1.270534</td>\n",
              "      <td>-0.282162</td>\n",
              "      <td>0.633801</td>\n",
              "      <td>0.999047</td>\n",
              "      <td>0.178952</td>\n",
              "      <td>1.109056</td>\n",
              "      <td>0.314393</td>\n",
              "      <td>-0.580467</td>\n",
              "      <td>0.096511</td>\n",
              "      <td>0.305334</td>\n",
              "      <td>0.471210</td>\n",
              "      <td>-1.051423</td>\n",
              "      <td>-0.047176</td>\n",
              "      <td>-0.568554</td>\n",
              "      <td>164.05</td>\n",
              "      <td>0.0</td>\n",
              "    </tr>\n",
              "    <tr>\n",
              "      <th>12699</th>\n",
              "      <td>22261</td>\n",
              "      <td>1.090666</td>\n",
              "      <td>0.336109</td>\n",
              "      <td>-0.072621</td>\n",
              "      <td>1.384967</td>\n",
              "      <td>0.060575</td>\n",
              "      <td>-1.096974</td>\n",
              "      <td>0.623667</td>\n",
              "      <td>-0.489797</td>\n",
              "      <td>0.919411</td>\n",
              "      <td>-0.385541</td>\n",
              "      <td>0.667924</td>\n",
              "      <td>-2.023121</td>\n",
              "      <td>2.153140</td>\n",
              "      <td>1.921297</td>\n",
              "      <td>-0.097442</td>\n",
              "      <td>-0.255270</td>\n",
              "      <td>0.392384</td>\n",
              "      <td>-0.136393</td>\n",
              "      <td>-0.489177</td>\n",
              "      <td>0.034026</td>\n",
              "      <td>-0.082523</td>\n",
              "      <td>-0.131621</td>\n",
              "      <td>-0.226813</td>\n",
              "      <td>0.358635</td>\n",
              "      <td>0.810954</td>\n",
              "      <td>-0.346882</td>\n",
              "      <td>-0.050001</td>\n",
              "      <td>0.022698</td>\n",
              "      <td>99.99</td>\n",
              "      <td>0.0</td>\n",
              "    </tr>\n",
              "    <tr>\n",
              "      <th>24480</th>\n",
              "      <td>33257</td>\n",
              "      <td>1.142035</td>\n",
              "      <td>-0.153744</td>\n",
              "      <td>0.810678</td>\n",
              "      <td>1.482879</td>\n",
              "      <td>-0.162640</td>\n",
              "      <td>1.193688</td>\n",
              "      <td>-0.504632</td>\n",
              "      <td>0.310825</td>\n",
              "      <td>1.220909</td>\n",
              "      <td>-0.436619</td>\n",
              "      <td>-1.896175</td>\n",
              "      <td>0.997577</td>\n",
              "      <td>0.563400</td>\n",
              "      <td>-0.931872</td>\n",
              "      <td>-1.701169</td>\n",
              "      <td>-0.883041</td>\n",
              "      <td>0.371250</td>\n",
              "      <td>-1.104549</td>\n",
              "      <td>0.548008</td>\n",
              "      <td>-0.124893</td>\n",
              "      <td>-0.471371</td>\n",
              "      <td>-0.853872</td>\n",
              "      <td>-0.051848</td>\n",
              "      <td>-0.908654</td>\n",
              "      <td>0.580569</td>\n",
              "      <td>-0.449979</td>\n",
              "      <td>0.093368</td>\n",
              "      <td>0.020772</td>\n",
              "      <td>15.35</td>\n",
              "      <td>0.0</td>\n",
              "    </tr>\n",
              "    <tr>\n",
              "      <th>19283</th>\n",
              "      <td>30147</td>\n",
              "      <td>-0.970480</td>\n",
              "      <td>0.160098</td>\n",
              "      <td>0.568130</td>\n",
              "      <td>-0.241436</td>\n",
              "      <td>2.967081</td>\n",
              "      <td>3.664496</td>\n",
              "      <td>-0.246727</td>\n",
              "      <td>1.065283</td>\n",
              "      <td>-0.324890</td>\n",
              "      <td>-0.584124</td>\n",
              "      <td>-0.798432</td>\n",
              "      <td>-0.081273</td>\n",
              "      <td>-0.303119</td>\n",
              "      <td>-0.058799</td>\n",
              "      <td>-0.387528</td>\n",
              "      <td>-0.225530</td>\n",
              "      <td>-0.417860</td>\n",
              "      <td>0.260725</td>\n",
              "      <td>0.591945</td>\n",
              "      <td>0.203486</td>\n",
              "      <td>-0.016804</td>\n",
              "      <td>-0.168978</td>\n",
              "      <td>-0.343807</td>\n",
              "      <td>1.018445</td>\n",
              "      <td>0.830541</td>\n",
              "      <td>-0.223141</td>\n",
              "      <td>0.059232</td>\n",
              "      <td>0.073351</td>\n",
              "      <td>9.99</td>\n",
              "      <td>0.0</td>\n",
              "    </tr>\n",
              "    <tr>\n",
              "      <th>18936</th>\n",
              "      <td>29879</td>\n",
              "      <td>1.337213</td>\n",
              "      <td>0.298634</td>\n",
              "      <td>-0.525199</td>\n",
              "      <td>0.352557</td>\n",
              "      <td>0.331449</td>\n",
              "      <td>-0.822403</td>\n",
              "      <td>0.505519</td>\n",
              "      <td>-0.347519</td>\n",
              "      <td>-0.221557</td>\n",
              "      <td>-0.023845</td>\n",
              "      <td>-0.984308</td>\n",
              "      <td>0.081203</td>\n",
              "      <td>0.507223</td>\n",
              "      <td>0.394109</td>\n",
              "      <td>0.737775</td>\n",
              "      <td>0.104913</td>\n",
              "      <td>-0.550212</td>\n",
              "      <td>-0.333752</td>\n",
              "      <td>0.260033</td>\n",
              "      <td>-0.032550</td>\n",
              "      <td>-0.071592</td>\n",
              "      <td>-0.178421</td>\n",
              "      <td>-0.227297</td>\n",
              "      <td>-0.380186</td>\n",
              "      <td>0.786867</td>\n",
              "      <td>0.583987</td>\n",
              "      <td>-0.073587</td>\n",
              "      <td>-0.006526</td>\n",
              "      <td>17.97</td>\n",
              "      <td>0.0</td>\n",
              "    </tr>\n",
              "  </tbody>\n",
              "</table>\n",
              "</div>"
            ],
            "text/plain": [
              "        Time        V1        V2        V3  ...       V27       V28  Amount  Class\n",
              "5934    6554 -3.931647 -3.754124  1.239639  ... -0.047176 -0.568554  164.05    0.0\n",
              "12699  22261  1.090666  0.336109 -0.072621  ... -0.050001  0.022698   99.99    0.0\n",
              "24480  33257  1.142035 -0.153744  0.810678  ...  0.093368  0.020772   15.35    0.0\n",
              "19283  30147 -0.970480  0.160098  0.568130  ...  0.059232  0.073351    9.99    0.0\n",
              "18936  29879  1.337213  0.298634 -0.525199  ... -0.073587 -0.006526   17.97    0.0\n",
              "\n",
              "[5 rows x 31 columns]"
            ]
          },
          "metadata": {
            "tags": []
          },
          "execution_count": 27
        }
      ]
    },
    {
      "cell_type": "code",
      "metadata": {
        "colab": {
          "base_uri": "https://localhost:8080/",
          "height": 225
        },
        "id": "Ec40uILnD_DJ",
        "outputId": "66f68cf5-7b05-474e-9ca4-2ac1e88d21ee"
      },
      "source": [
        "new_dataset.tail()"
      ],
      "execution_count": 29,
      "outputs": [
        {
          "output_type": "execute_result",
          "data": {
            "text/html": [
              "<div>\n",
              "<style scoped>\n",
              "    .dataframe tbody tr th:only-of-type {\n",
              "        vertical-align: middle;\n",
              "    }\n",
              "\n",
              "    .dataframe tbody tr th {\n",
              "        vertical-align: top;\n",
              "    }\n",
              "\n",
              "    .dataframe thead th {\n",
              "        text-align: right;\n",
              "    }\n",
              "</style>\n",
              "<table border=\"1\" class=\"dataframe\">\n",
              "  <thead>\n",
              "    <tr style=\"text-align: right;\">\n",
              "      <th></th>\n",
              "      <th>Time</th>\n",
              "      <th>V1</th>\n",
              "      <th>V2</th>\n",
              "      <th>V3</th>\n",
              "      <th>V4</th>\n",
              "      <th>V5</th>\n",
              "      <th>V6</th>\n",
              "      <th>V7</th>\n",
              "      <th>V8</th>\n",
              "      <th>V9</th>\n",
              "      <th>V10</th>\n",
              "      <th>V11</th>\n",
              "      <th>V12</th>\n",
              "      <th>V13</th>\n",
              "      <th>V14</th>\n",
              "      <th>V15</th>\n",
              "      <th>V16</th>\n",
              "      <th>V17</th>\n",
              "      <th>V18</th>\n",
              "      <th>V19</th>\n",
              "      <th>V20</th>\n",
              "      <th>V21</th>\n",
              "      <th>V22</th>\n",
              "      <th>V23</th>\n",
              "      <th>V24</th>\n",
              "      <th>V25</th>\n",
              "      <th>V26</th>\n",
              "      <th>V27</th>\n",
              "      <th>V28</th>\n",
              "      <th>Amount</th>\n",
              "      <th>Class</th>\n",
              "    </tr>\n",
              "  </thead>\n",
              "  <tbody>\n",
              "    <tr>\n",
              "      <th>30442</th>\n",
              "      <td>35926</td>\n",
              "      <td>-3.896583</td>\n",
              "      <td>4.518355</td>\n",
              "      <td>-4.454027</td>\n",
              "      <td>5.547453</td>\n",
              "      <td>-4.121459</td>\n",
              "      <td>-1.163407</td>\n",
              "      <td>-6.805053</td>\n",
              "      <td>2.928356</td>\n",
              "      <td>-4.917130</td>\n",
              "      <td>-6.600461</td>\n",
              "      <td>3.367846</td>\n",
              "      <td>-7.888978</td>\n",
              "      <td>1.682603</td>\n",
              "      <td>-7.628652</td>\n",
              "      <td>0.779246</td>\n",
              "      <td>-7.533404</td>\n",
              "      <td>-14.064624</td>\n",
              "      <td>-4.960109</td>\n",
              "      <td>2.525785</td>\n",
              "      <td>0.757287</td>\n",
              "      <td>1.691042</td>\n",
              "      <td>0.920021</td>\n",
              "      <td>-0.151104</td>\n",
              "      <td>0.011007</td>\n",
              "      <td>0.080303</td>\n",
              "      <td>0.412191</td>\n",
              "      <td>0.635789</td>\n",
              "      <td>0.501050</td>\n",
              "      <td>4.56</td>\n",
              "      <td>1.0</td>\n",
              "    </tr>\n",
              "    <tr>\n",
              "      <th>30473</th>\n",
              "      <td>35942</td>\n",
              "      <td>-4.194074</td>\n",
              "      <td>4.382897</td>\n",
              "      <td>-5.118363</td>\n",
              "      <td>4.455230</td>\n",
              "      <td>-4.812621</td>\n",
              "      <td>-1.224645</td>\n",
              "      <td>-7.281328</td>\n",
              "      <td>3.332250</td>\n",
              "      <td>-3.679659</td>\n",
              "      <td>-7.524368</td>\n",
              "      <td>2.954344</td>\n",
              "      <td>-7.099825</td>\n",
              "      <td>1.520369</td>\n",
              "      <td>-7.687803</td>\n",
              "      <td>-0.225002</td>\n",
              "      <td>-8.520850</td>\n",
              "      <td>-13.277300</td>\n",
              "      <td>-5.253705</td>\n",
              "      <td>3.623332</td>\n",
              "      <td>0.579098</td>\n",
              "      <td>1.550473</td>\n",
              "      <td>0.614573</td>\n",
              "      <td>0.028521</td>\n",
              "      <td>0.013704</td>\n",
              "      <td>-0.149512</td>\n",
              "      <td>-0.131687</td>\n",
              "      <td>0.473934</td>\n",
              "      <td>0.473757</td>\n",
              "      <td>14.46</td>\n",
              "      <td>1.0</td>\n",
              "    </tr>\n",
              "    <tr>\n",
              "      <th>30496</th>\n",
              "      <td>35953</td>\n",
              "      <td>-4.844372</td>\n",
              "      <td>5.649439</td>\n",
              "      <td>-6.730396</td>\n",
              "      <td>5.252842</td>\n",
              "      <td>-4.409566</td>\n",
              "      <td>-1.740767</td>\n",
              "      <td>-6.311699</td>\n",
              "      <td>3.449167</td>\n",
              "      <td>-5.416284</td>\n",
              "      <td>-7.833556</td>\n",
              "      <td>3.657350</td>\n",
              "      <td>-7.781448</td>\n",
              "      <td>1.507720</td>\n",
              "      <td>-8.604759</td>\n",
              "      <td>0.010593</td>\n",
              "      <td>-6.553973</td>\n",
              "      <td>-12.624394</td>\n",
              "      <td>-4.989910</td>\n",
              "      <td>1.645414</td>\n",
              "      <td>0.284555</td>\n",
              "      <td>1.194888</td>\n",
              "      <td>-0.845753</td>\n",
              "      <td>0.190674</td>\n",
              "      <td>-0.216443</td>\n",
              "      <td>-0.325033</td>\n",
              "      <td>-0.270328</td>\n",
              "      <td>0.210214</td>\n",
              "      <td>0.391855</td>\n",
              "      <td>111.70</td>\n",
              "      <td>1.0</td>\n",
              "    </tr>\n",
              "    <tr>\n",
              "      <th>31002</th>\n",
              "      <td>36170</td>\n",
              "      <td>-5.685013</td>\n",
              "      <td>5.776516</td>\n",
              "      <td>-7.064977</td>\n",
              "      <td>5.902715</td>\n",
              "      <td>-4.715564</td>\n",
              "      <td>-1.755633</td>\n",
              "      <td>-6.958679</td>\n",
              "      <td>3.877795</td>\n",
              "      <td>-5.541529</td>\n",
              "      <td>-7.502112</td>\n",
              "      <td>3.676703</td>\n",
              "      <td>-7.642983</td>\n",
              "      <td>1.689865</td>\n",
              "      <td>-8.299660</td>\n",
              "      <td>0.646996</td>\n",
              "      <td>-6.792795</td>\n",
              "      <td>-12.075932</td>\n",
              "      <td>-4.882180</td>\n",
              "      <td>2.626625</td>\n",
              "      <td>0.299489</td>\n",
              "      <td>1.128641</td>\n",
              "      <td>-0.962960</td>\n",
              "      <td>-0.110045</td>\n",
              "      <td>-0.177733</td>\n",
              "      <td>-0.089175</td>\n",
              "      <td>-0.049447</td>\n",
              "      <td>0.303445</td>\n",
              "      <td>0.219380</td>\n",
              "      <td>111.70</td>\n",
              "      <td>1.0</td>\n",
              "    </tr>\n",
              "    <tr>\n",
              "      <th>33276</th>\n",
              "      <td>37167</td>\n",
              "      <td>-7.923891</td>\n",
              "      <td>-5.198360</td>\n",
              "      <td>-3.000024</td>\n",
              "      <td>4.420666</td>\n",
              "      <td>2.272194</td>\n",
              "      <td>-3.394483</td>\n",
              "      <td>-5.283435</td>\n",
              "      <td>0.131619</td>\n",
              "      <td>0.658176</td>\n",
              "      <td>-0.794994</td>\n",
              "      <td>3.266066</td>\n",
              "      <td>-2.719185</td>\n",
              "      <td>-0.124104</td>\n",
              "      <td>-5.274866</td>\n",
              "      <td>0.638575</td>\n",
              "      <td>-2.995830</td>\n",
              "      <td>-4.698433</td>\n",
              "      <td>-1.711871</td>\n",
              "      <td>3.025261</td>\n",
              "      <td>-2.169811</td>\n",
              "      <td>-0.734308</td>\n",
              "      <td>-0.599926</td>\n",
              "      <td>-4.908301</td>\n",
              "      <td>0.410170</td>\n",
              "      <td>-1.167660</td>\n",
              "      <td>0.520508</td>\n",
              "      <td>1.937421</td>\n",
              "      <td>-1.552593</td>\n",
              "      <td>12.31</td>\n",
              "      <td>1.0</td>\n",
              "    </tr>\n",
              "  </tbody>\n",
              "</table>\n",
              "</div>"
            ],
            "text/plain": [
              "        Time        V1        V2        V3  ...       V27       V28  Amount  Class\n",
              "30442  35926 -3.896583  4.518355 -4.454027  ...  0.635789  0.501050    4.56    1.0\n",
              "30473  35942 -4.194074  4.382897 -5.118363  ...  0.473934  0.473757   14.46    1.0\n",
              "30496  35953 -4.844372  5.649439 -6.730396  ...  0.210214  0.391855  111.70    1.0\n",
              "31002  36170 -5.685013  5.776516 -7.064977  ...  0.303445  0.219380  111.70    1.0\n",
              "33276  37167 -7.923891 -5.198360 -3.000024  ...  1.937421 -1.552593   12.31    1.0\n",
              "\n",
              "[5 rows x 31 columns]"
            ]
          },
          "metadata": {
            "tags": []
          },
          "execution_count": 29
        }
      ]
    },
    {
      "cell_type": "code",
      "metadata": {
        "colab": {
          "base_uri": "https://localhost:8080/"
        },
        "id": "YK6-exYPECWb",
        "outputId": "9bafcdfb-277a-4b38-b86d-f8dd3bdea76a"
      },
      "source": [
        "new_dataset['Class'].value_counts()"
      ],
      "execution_count": 31,
      "outputs": [
        {
          "output_type": "execute_result",
          "data": {
            "text/plain": [
              "1.0    103\n",
              "0.0    103\n",
              "Name: Class, dtype: int64"
            ]
          },
          "metadata": {
            "tags": []
          },
          "execution_count": 31
        }
      ]
    },
    {
      "cell_type": "code",
      "metadata": {
        "colab": {
          "base_uri": "https://localhost:8080/",
          "height": 163
        },
        "id": "8cF2BmeoEJi9",
        "outputId": "abcc30b9-b002-4c40-cf29-833c15e3d725"
      },
      "source": [
        "new_dataset.groupby('Class').mean()"
      ],
      "execution_count": 32,
      "outputs": [
        {
          "output_type": "execute_result",
          "data": {
            "text/html": [
              "<div>\n",
              "<style scoped>\n",
              "    .dataframe tbody tr th:only-of-type {\n",
              "        vertical-align: middle;\n",
              "    }\n",
              "\n",
              "    .dataframe tbody tr th {\n",
              "        vertical-align: top;\n",
              "    }\n",
              "\n",
              "    .dataframe thead th {\n",
              "        text-align: right;\n",
              "    }\n",
              "</style>\n",
              "<table border=\"1\" class=\"dataframe\">\n",
              "  <thead>\n",
              "    <tr style=\"text-align: right;\">\n",
              "      <th></th>\n",
              "      <th>Time</th>\n",
              "      <th>V1</th>\n",
              "      <th>V2</th>\n",
              "      <th>V3</th>\n",
              "      <th>V4</th>\n",
              "      <th>V5</th>\n",
              "      <th>V6</th>\n",
              "      <th>V7</th>\n",
              "      <th>V8</th>\n",
              "      <th>V9</th>\n",
              "      <th>V10</th>\n",
              "      <th>V11</th>\n",
              "      <th>V12</th>\n",
              "      <th>V13</th>\n",
              "      <th>V14</th>\n",
              "      <th>V15</th>\n",
              "      <th>V16</th>\n",
              "      <th>V17</th>\n",
              "      <th>V18</th>\n",
              "      <th>V19</th>\n",
              "      <th>V20</th>\n",
              "      <th>V21</th>\n",
              "      <th>V22</th>\n",
              "      <th>V23</th>\n",
              "      <th>V24</th>\n",
              "      <th>V25</th>\n",
              "      <th>V26</th>\n",
              "      <th>V27</th>\n",
              "      <th>V28</th>\n",
              "      <th>Amount</th>\n",
              "    </tr>\n",
              "    <tr>\n",
              "      <th>Class</th>\n",
              "      <th></th>\n",
              "      <th></th>\n",
              "      <th></th>\n",
              "      <th></th>\n",
              "      <th></th>\n",
              "      <th></th>\n",
              "      <th></th>\n",
              "      <th></th>\n",
              "      <th></th>\n",
              "      <th></th>\n",
              "      <th></th>\n",
              "      <th></th>\n",
              "      <th></th>\n",
              "      <th></th>\n",
              "      <th></th>\n",
              "      <th></th>\n",
              "      <th></th>\n",
              "      <th></th>\n",
              "      <th></th>\n",
              "      <th></th>\n",
              "      <th></th>\n",
              "      <th></th>\n",
              "      <th></th>\n",
              "      <th></th>\n",
              "      <th></th>\n",
              "      <th></th>\n",
              "      <th></th>\n",
              "      <th></th>\n",
              "      <th></th>\n",
              "      <th></th>\n",
              "    </tr>\n",
              "  </thead>\n",
              "  <tbody>\n",
              "    <tr>\n",
              "      <th>0.0</th>\n",
              "      <td>25389.582524</td>\n",
              "      <td>-0.171824</td>\n",
              "      <td>-0.097920</td>\n",
              "      <td>0.612493</td>\n",
              "      <td>0.071887</td>\n",
              "      <td>-0.214667</td>\n",
              "      <td>0.053085</td>\n",
              "      <td>-0.123388</td>\n",
              "      <td>-0.280148</td>\n",
              "      <td>0.154782</td>\n",
              "      <td>0.008083</td>\n",
              "      <td>0.344970</td>\n",
              "      <td>-0.444150</td>\n",
              "      <td>0.375459</td>\n",
              "      <td>0.311701</td>\n",
              "      <td>0.130539</td>\n",
              "      <td>-0.057826</td>\n",
              "      <td>0.143066</td>\n",
              "      <td>-0.027450</td>\n",
              "      <td>-0.063939</td>\n",
              "      <td>0.104730</td>\n",
              "      <td>-0.198447</td>\n",
              "      <td>-0.162546</td>\n",
              "      <td>-0.013720</td>\n",
              "      <td>0.020156</td>\n",
              "      <td>0.216658</td>\n",
              "      <td>-0.046057</td>\n",
              "      <td>0.022512</td>\n",
              "      <td>0.069448</td>\n",
              "      <td>89.510874</td>\n",
              "    </tr>\n",
              "    <tr>\n",
              "      <th>1.0</th>\n",
              "      <td>20498.291262</td>\n",
              "      <td>-7.762676</td>\n",
              "      <td>5.838647</td>\n",
              "      <td>-10.957218</td>\n",
              "      <td>5.911555</td>\n",
              "      <td>-5.453798</td>\n",
              "      <td>-2.306085</td>\n",
              "      <td>-7.743100</td>\n",
              "      <td>3.867920</td>\n",
              "      <td>-2.961800</td>\n",
              "      <td>-6.700936</td>\n",
              "      <td>5.501599</td>\n",
              "      <td>-8.404377</td>\n",
              "      <td>0.413922</td>\n",
              "      <td>-8.354800</td>\n",
              "      <td>-0.029473</td>\n",
              "      <td>-4.949284</td>\n",
              "      <td>-8.060624</td>\n",
              "      <td>-2.865933</td>\n",
              "      <td>0.477900</td>\n",
              "      <td>0.652319</td>\n",
              "      <td>0.628539</td>\n",
              "      <td>-0.354537</td>\n",
              "      <td>-0.362138</td>\n",
              "      <td>-0.234731</td>\n",
              "      <td>0.300023</td>\n",
              "      <td>0.180390</td>\n",
              "      <td>0.822304</td>\n",
              "      <td>0.102481</td>\n",
              "      <td>90.471165</td>\n",
              "    </tr>\n",
              "  </tbody>\n",
              "</table>\n",
              "</div>"
            ],
            "text/plain": [
              "               Time        V1        V2  ...       V27       V28     Amount\n",
              "Class                                    ...                               \n",
              "0.0    25389.582524 -0.171824 -0.097920  ...  0.022512  0.069448  89.510874\n",
              "1.0    20498.291262 -7.762676  5.838647  ...  0.822304  0.102481  90.471165\n",
              "\n",
              "[2 rows x 30 columns]"
            ]
          },
          "metadata": {
            "tags": []
          },
          "execution_count": 32
        }
      ]
    },
    {
      "cell_type": "markdown",
      "metadata": {
        "id": "X0LSaILsEmPm"
      },
      "source": [
        "Partition of dataset into features and target attribute"
      ]
    },
    {
      "cell_type": "code",
      "metadata": {
        "id": "gtXkULUKEfCP"
      },
      "source": [
        "X = new_dataset.drop(['Class'],axis = 1)\n",
        "Y = new_dataset['Class']"
      ],
      "execution_count": 34,
      "outputs": []
    },
    {
      "cell_type": "code",
      "metadata": {
        "colab": {
          "base_uri": "https://localhost:8080/"
        },
        "id": "yM9q44F1FGn1",
        "outputId": "d185f5f7-308c-4ffd-d81e-374e571d0b22"
      },
      "source": [
        "print(X)\n",
        "print(Y)"
      ],
      "execution_count": 35,
      "outputs": [
        {
          "output_type": "stream",
          "text": [
            "        Time        V1        V2  ...       V27       V28  Amount\n",
            "5934    6554 -3.931647 -3.754124  ... -0.047176 -0.568554  164.05\n",
            "12699  22261  1.090666  0.336109  ... -0.050001  0.022698   99.99\n",
            "24480  33257  1.142035 -0.153744  ...  0.093368  0.020772   15.35\n",
            "19283  30147 -0.970480  0.160098  ...  0.059232  0.073351    9.99\n",
            "18936  29879  1.337213  0.298634  ... -0.073587 -0.006526   17.97\n",
            "...      ...       ...       ...  ...       ...       ...     ...\n",
            "30442  35926 -3.896583  4.518355  ...  0.635789  0.501050    4.56\n",
            "30473  35942 -4.194074  4.382897  ...  0.473934  0.473757   14.46\n",
            "30496  35953 -4.844372  5.649439  ...  0.210214  0.391855  111.70\n",
            "31002  36170 -5.685013  5.776516  ...  0.303445  0.219380  111.70\n",
            "33276  37167 -7.923891 -5.198360  ...  1.937421 -1.552593   12.31\n",
            "\n",
            "[206 rows x 30 columns]\n",
            "5934     0.0\n",
            "12699    0.0\n",
            "24480    0.0\n",
            "19283    0.0\n",
            "18936    0.0\n",
            "        ... \n",
            "30442    1.0\n",
            "30473    1.0\n",
            "30496    1.0\n",
            "31002    1.0\n",
            "33276    1.0\n",
            "Name: Class, Length: 206, dtype: float64\n"
          ],
          "name": "stdout"
        }
      ]
    },
    {
      "cell_type": "markdown",
      "metadata": {
        "id": "aaI5nvRNFY4Y"
      },
      "source": [
        "Data Splitting into Training and test data"
      ]
    },
    {
      "cell_type": "code",
      "metadata": {
        "id": "1bgD2QSYFVUI"
      },
      "source": [
        "X_train, X_test, Y_train, Y_test = train_test_split( X,Y, test_size =0.1, stratify = Y, random_state = 1)"
      ],
      "execution_count": 36,
      "outputs": []
    },
    {
      "cell_type": "code",
      "metadata": {
        "colab": {
          "base_uri": "https://localhost:8080/"
        },
        "id": "6boNM4zxFz8l",
        "outputId": "10f88b97-a3cd-42fc-d02c-363858ddea21"
      },
      "source": [
        "print( X.shape, X_train.shape, X_test.shape)"
      ],
      "execution_count": 37,
      "outputs": [
        {
          "output_type": "stream",
          "text": [
            "(206, 30) (185, 30) (21, 30)\n"
          ],
          "name": "stdout"
        }
      ]
    },
    {
      "cell_type": "markdown",
      "metadata": {
        "id": "zJwBCi0KGD5Q"
      },
      "source": [
        "Model Building and Training"
      ]
    },
    {
      "cell_type": "code",
      "metadata": {
        "id": "7cRTBAOVF97L"
      },
      "source": [
        " model = LogisticRegression() "
      ],
      "execution_count": 38,
      "outputs": []
    },
    {
      "cell_type": "code",
      "metadata": {
        "colab": {
          "base_uri": "https://localhost:8080/"
        },
        "id": "snSTOX9jGRGY",
        "outputId": "3c4eeb0a-7dcd-4718-a35c-c99ea6a08aed"
      },
      "source": [
        "model.fit(X_train, Y_train)"
      ],
      "execution_count": 39,
      "outputs": [
        {
          "output_type": "stream",
          "text": [
            "/usr/local/lib/python3.7/dist-packages/sklearn/linear_model/_logistic.py:940: ConvergenceWarning: lbfgs failed to converge (status=1):\n",
            "STOP: TOTAL NO. of ITERATIONS REACHED LIMIT.\n",
            "\n",
            "Increase the number of iterations (max_iter) or scale the data as shown in:\n",
            "    https://scikit-learn.org/stable/modules/preprocessing.html\n",
            "Please also refer to the documentation for alternative solver options:\n",
            "    https://scikit-learn.org/stable/modules/linear_model.html#logistic-regression\n",
            "  extra_warning_msg=_LOGISTIC_SOLVER_CONVERGENCE_MSG)\n"
          ],
          "name": "stderr"
        },
        {
          "output_type": "execute_result",
          "data": {
            "text/plain": [
              "LogisticRegression(C=1.0, class_weight=None, dual=False, fit_intercept=True,\n",
              "                   intercept_scaling=1, l1_ratio=None, max_iter=100,\n",
              "                   multi_class='auto', n_jobs=None, penalty='l2',\n",
              "                   random_state=None, solver='lbfgs', tol=0.0001, verbose=0,\n",
              "                   warm_start=False)"
            ]
          },
          "metadata": {
            "tags": []
          },
          "execution_count": 39
        }
      ]
    },
    {
      "cell_type": "markdown",
      "metadata": {
        "id": "zHRkP3VqGgmS"
      },
      "source": [
        "Model Evaluation"
      ]
    },
    {
      "cell_type": "code",
      "metadata": {
        "id": "Q8Z_HwNMGb7-"
      },
      "source": [
        "# Prediction Accuracy on training data\n",
        "X_train_prediction = model.predict(X_train)\n",
        "training_data_accuracy = accuracy_score(X_train_prediction, Y_train)"
      ],
      "execution_count": 40,
      "outputs": []
    },
    {
      "cell_type": "code",
      "metadata": {
        "colab": {
          "base_uri": "https://localhost:8080/"
        },
        "id": "v544iDTxHF3x",
        "outputId": "788d6300-be7a-4cf8-8027-ac05fa129e0e"
      },
      "source": [
        "print('Accuracy score on training data :', training_data_accuracy)"
      ],
      "execution_count": 41,
      "outputs": [
        {
          "output_type": "stream",
          "text": [
            "Accuracy score on training data : 0.9837837837837838\n"
          ],
          "name": "stdout"
        }
      ]
    },
    {
      "cell_type": "code",
      "metadata": {
        "id": "HubY9QZ9HRPy"
      },
      "source": [
        "# Prediction accuracy on testing data\n",
        "X_test_prediction = model.predict(X_test)\n",
        "Test_data_accuracy = accuracy_score(X_test_prediction, Y_test)"
      ],
      "execution_count": 42,
      "outputs": []
    },
    {
      "cell_type": "code",
      "metadata": {
        "colab": {
          "base_uri": "https://localhost:8080/"
        },
        "id": "MQ6xQ0ZaHrLl",
        "outputId": "4e1194a7-11df-447f-aee3-6123207a752b"
      },
      "source": [
        "print('Accuracy score on testing data :' , Test_data_accuracy)"
      ],
      "execution_count": 43,
      "outputs": [
        {
          "output_type": "stream",
          "text": [
            "Accuracy score on testing data : 0.9523809523809523\n"
          ],
          "name": "stdout"
        }
      ]
    }
  ]
}